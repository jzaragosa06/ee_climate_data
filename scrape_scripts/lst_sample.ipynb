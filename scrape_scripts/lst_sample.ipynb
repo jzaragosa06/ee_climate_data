{
 "cells": [
  {
   "cell_type": "code",
   "execution_count": 1,
   "metadata": {},
   "outputs": [],
   "source": [
    "import ee\n",
    "import os\n",
    "import json\n",
    "import pandas as pd\n",
    "from datetime import datetime, timedelta\n",
    "from dotenv import load_dotenv\n",
    "load_dotenv()\n",
    "\n",
    "ee.Authenticate()\n",
    "projectName = os.getenv(\"PROJECT\")\n",
    "ee.Initialize(project=projectName)"
   ]
  },
  {
   "cell_type": "code",
   "execution_count": null,
   "metadata": {},
   "outputs": [],
   "source": [
    "lst = ee.ImageCollection('MODIS/061/MOD11A1')"
   ]
  },
  {
   "cell_type": "code",
   "execution_count": 3,
   "metadata": {},
   "outputs": [],
   "source": [
    "# Initial date of interest (inclusive).\n",
    "i_date = '2022-01-01'\n",
    "\n",
    "# Final date of interest (exclusive).\n",
    "f_date = '2023-01-01'\n",
    "\n",
    "# Selection of appropriate bands and dates for LST.\n",
    "band = lst.select('LST_Day_1km', 'QC_Day').filterDate(i_date, f_date)"
   ]
  },
  {
   "cell_type": "code",
   "execution_count": 4,
   "metadata": {},
   "outputs": [],
   "source": [
    "Hamburg_lon = 9.993682\n",
    "Hamburg_lat = 53.551086\n",
    "Hamburg_point = ee.Geometry.Point(Hamburg_lon, Hamburg_lat)"
   ]
  },
  {
   "cell_type": "code",
   "execution_count": 5,
   "metadata": {},
   "outputs": [
    {
     "name": "stdout",
     "output_type": "stream",
     "text": [
      "Hamburg average daytime LST: 16.83 °C\n"
     ]
    }
   ],
   "source": [
    "scale = 1000  # scale in meters\n",
    "lst_hamburg = band.mean().sample(Hamburg_point, scale).first().get('LST_Day_1km').getInfo()\n",
    "print('Hamburg average daytime LST:', round(lst_hamburg*0.02 -273.15, 2), '°C')\n",
    "# output is : Hamburg average daytime LST: 16.83 °C"
   ]
  },
  {
   "cell_type": "code",
   "execution_count": 6,
   "metadata": {},
   "outputs": [
    {
     "data": {
      "text/plain": [
       "[['id', 'longitude', 'latitude', 'time', 'LST_Day_1km', 'QC_Day'],\n",
       " ['2022_01_01', 9.993757535829678, 53.55306566278528, 1640995200000, None, 2],\n",
       " ['2022_01_02', 9.993757535829678, 53.55306566278528, 1641081600000, None, 2]]"
      ]
     },
     "execution_count": 6,
     "metadata": {},
     "output_type": "execute_result"
    }
   ],
   "source": [
    "lst_Hamburg_full = band.getRegion(Hamburg_point, scale).getInfo()\n",
    "lst_Hamburg_full[:3] # Preview the output."
   ]
  },
  {
   "cell_type": "code",
   "execution_count": 7,
   "metadata": {},
   "outputs": [
    {
     "data": {
      "text/html": [
       "<div>\n",
       "<style scoped>\n",
       "    .dataframe tbody tr th:only-of-type {\n",
       "        vertical-align: middle;\n",
       "    }\n",
       "\n",
       "    .dataframe tbody tr th {\n",
       "        vertical-align: top;\n",
       "    }\n",
       "\n",
       "    .dataframe thead th {\n",
       "        text-align: right;\n",
       "    }\n",
       "</style>\n",
       "<table border=\"1\" class=\"dataframe\">\n",
       "  <thead>\n",
       "    <tr style=\"text-align: right;\">\n",
       "      <th></th>\n",
       "      <th>time</th>\n",
       "      <th>datetime</th>\n",
       "      <th>LST_Day_1km</th>\n",
       "    </tr>\n",
       "  </thead>\n",
       "  <tbody>\n",
       "    <tr>\n",
       "      <th>2</th>\n",
       "      <td>1641168000000</td>\n",
       "      <td>2022-01-03</td>\n",
       "      <td>13872</td>\n",
       "    </tr>\n",
       "    <tr>\n",
       "      <th>5</th>\n",
       "      <td>1641427200000</td>\n",
       "      <td>2022-01-06</td>\n",
       "      <td>13704</td>\n",
       "    </tr>\n",
       "    <tr>\n",
       "      <th>7</th>\n",
       "      <td>1641600000000</td>\n",
       "      <td>2022-01-08</td>\n",
       "      <td>13620</td>\n",
       "    </tr>\n",
       "    <tr>\n",
       "      <th>11</th>\n",
       "      <td>1641945600000</td>\n",
       "      <td>2022-01-12</td>\n",
       "      <td>13837</td>\n",
       "    </tr>\n",
       "    <tr>\n",
       "      <th>20</th>\n",
       "      <td>1642723200000</td>\n",
       "      <td>2022-01-21</td>\n",
       "      <td>13682</td>\n",
       "    </tr>\n",
       "  </tbody>\n",
       "</table>\n",
       "</div>"
      ],
      "text/plain": [
       "0            time   datetime  LST_Day_1km\n",
       "2   1641168000000 2022-01-03        13872\n",
       "5   1641427200000 2022-01-06        13704\n",
       "7   1641600000000 2022-01-08        13620\n",
       "11  1641945600000 2022-01-12        13837\n",
       "20  1642723200000 2022-01-21        13682"
      ]
     },
     "execution_count": 7,
     "metadata": {},
     "output_type": "execute_result"
    }
   ],
   "source": [
    "import pandas as pd\n",
    "df = pd.DataFrame(lst_Hamburg_full) #Convert list to dataframe\n",
    "headers = df.iloc[0]   # Rearrange the header.\n",
    "df = pd.DataFrame(df.values[1:], columns=headers)   # Rearrange the header.\n",
    "df = df[['longitude', 'latitude', 'time', \"LST_Day_1km\" ]].dropna() # Remove rows with null data.\n",
    "df[ \"LST_Day_1km\"] = pd.to_numeric(df[ \"LST_Day_1km\"], errors='coerce')    # Convert to numeric values.\n",
    "df['datetime'] = pd.to_datetime(df['time'], unit='ms')  # Convert datetime to datetime values.\n",
    "df = df[['time','datetime',  \"LST_Day_1km\"   ]] # take interest part\n",
    "df.head()"
   ]
  }
 ],
 "metadata": {
  "kernelspec": {
   "display_name": "Python 3",
   "language": "python",
   "name": "python3"
  },
  "language_info": {
   "codemirror_mode": {
    "name": "ipython",
    "version": 3
   },
   "file_extension": ".py",
   "mimetype": "text/x-python",
   "name": "python",
   "nbconvert_exporter": "python",
   "pygments_lexer": "ipython3",
   "version": "3.12.4"
  }
 },
 "nbformat": 4,
 "nbformat_minor": 2
}
