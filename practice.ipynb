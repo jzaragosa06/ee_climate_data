{
 "cells": [
  {
   "cell_type": "code",
   "execution_count": 39,
   "metadata": {},
   "outputs": [],
   "source": [
    "import pandas as pd \n",
    "import numpy as np\n",
    "from datetime import  datetime, timedelta"
   ]
  },
  {
   "cell_type": "code",
   "execution_count": 40,
   "metadata": {},
   "outputs": [
    {
     "name": "stdout",
     "output_type": "stream",
     "text": [
      "2024-08-01 00:00:00\n",
      "2025-01-01 00:00:00\n",
      "-153 days, 0:00:00\n"
     ]
    }
   ],
   "source": [
    "start_date = datetime(2024, 8, 1)\n",
    "end_date = datetime(2025, 1, 1)\n",
    "\n",
    "print(start_date)\n",
    "print(end_date)\n",
    "print(f\"{start_date - end_date}\")"
   ]
  },
  {
   "cell_type": "code",
   "execution_count": 41,
   "metadata": {},
   "outputs": [
    {
     "name": "stdout",
     "output_type": "stream",
     "text": [
      "2025-01-28 00:00:00\n"
     ]
    }
   ],
   "source": [
    "print(f\"{timedelta(days=180) + start_date}\")"
   ]
  },
  {
   "cell_type": "code",
   "execution_count": 43,
   "metadata": {},
   "outputs": [
    {
     "name": "stdout",
     "output_type": "stream",
     "text": [
      "2025-01-01 00:00:00\n"
     ]
    }
   ],
   "source": [
    "result = min(start_date + timedelta(days=180), end_date)\n",
    "print(result)"
   ]
  },
  {
   "cell_type": "code",
   "execution_count": 49,
   "metadata": {},
   "outputs": [],
   "source": [
    "arr1 = [1, 2, 3, 4, 5]\n",
    "arr2 = [6, 7, 8, 9, 10]"
   ]
  },
  {
   "cell_type": "code",
   "execution_count": 51,
   "metadata": {},
   "outputs": [
    {
     "name": "stdout",
     "output_type": "stream",
     "text": [
      "[[[1, 2, 3, 4, 5], [6, 7, 8, 9, 10]], [[1, 2, 3, 4, 5], [6, 7, 8, 9, 10]]]\n"
     ]
    }
   ],
   "source": [
    "arr3 = []\n",
    "\n",
    "arr3.append([arr1, arr2])\n",
    "arr3.append([arr1, arr2])\n",
    "print(arr3)"
   ]
  }
 ],
 "metadata": {
  "kernelspec": {
   "display_name": "Python 3",
   "language": "python",
   "name": "python3"
  },
  "language_info": {
   "codemirror_mode": {
    "name": "ipython",
    "version": 3
   },
   "file_extension": ".py",
   "mimetype": "text/x-python",
   "name": "python",
   "nbconvert_exporter": "python",
   "pygments_lexer": "ipython3",
   "version": "3.12.4"
  }
 },
 "nbformat": 4,
 "nbformat_minor": 2
}
